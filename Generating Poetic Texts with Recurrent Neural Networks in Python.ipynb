{
 "cells": [
  {
   "cell_type": "code",
   "execution_count": 1,
   "id": "8a2db118-4b95-4ce8-a3fa-b65318112140",
   "metadata": {},
   "outputs": [],
   "source": [
    "import random \n",
    "import numpy as np\n",
    "import tensorflow as tf\n",
    "from tensorflow.keras.models import Sequential\n",
    "from tensorflow.keras.layers import LSTM, Dense, Activation\n",
    "from tensorflow.keras.optimizers import RMSprop"
   ]
  },
  {
   "cell_type": "code",
   "execution_count": 3,
   "id": "79a56562-15d1-4803-b582-5d426cd6a600",
   "metadata": {},
   "outputs": [],
   "source": [
    "filepath = tf.keras.utils.get_file('shakespeare.txt', 'https://storage.googleapis.com/download.tensorflow.org/data/shakespeare.txt')\n",
    "text = open(filepath, 'rb').read().decode(encoding='UTF-8').lower()\n",
    "text = text[300000:800000]\n",
    "characters = sorted(set(text))\n",
    "char_to_index = dict((c,i) for i,c in enumerate(characters))\n",
    "index_to_char = dict((i,c) for i,c in enumerate(characters))\n"
   ]
  },
  {
   "cell_type": "code",
   "execution_count": 4,
   "id": "6c01b556-1f02-4eca-9edd-b6e1780649d1",
   "metadata": {},
   "outputs": [],
   "source": [
    "seq_length = 40\n",
    "step_size = 3\n",
    "sentences = []\n",
    "next_characters = []\n",
    "for i in range(0, len(text) - seq_length, step_size):\n",
    "    sentences.append(text[i : i+seq_length])\n",
    "    next_characters.append(text[i+seq_length])\n"
   ]
  },
  {
   "cell_type": "code",
   "execution_count": 8,
   "id": "10d1b0ec-7a8f-479d-94b0-e55cc29648cd",
   "metadata": {},
   "outputs": [],
   "source": [
    "x = np.zeros((len(sentences), seq_length, len(characters)), dtype=bool)\n",
    "y = np.zeros((len(sentences), len(characters)), dtype=bool)\n",
    "for i , sentence in enumerate(sentences):\n",
    "    for t , character in enumerate(sentence):\n",
    "        x[i, t, char_to_index[character]] = 1 #true = 1 \n",
    "    y[i, char_to_index[next_characters[i]]] = 1\n"
   ]
  },
  {
   "cell_type": "code",
   "execution_count": 12,
   "id": "f35e5436-7b78-46e4-8ba6-6554893fc3d1",
   "metadata": {},
   "outputs": [
    {
     "name": "stderr",
     "output_type": "stream",
     "text": [
      "WARNING:absl:`lr` is deprecated in Keras optimizer, please use `learning_rate` or use the legacy optimizer, e.g.,tf.keras.optimizers.legacy.RMSprop.\n"
     ]
    },
    {
     "name": "stdout",
     "output_type": "stream",
     "text": [
      "Epoch 1/4\n",
      "651/651 [==============================] - 174s 261ms/step - loss: 2.6959\n",
      "Epoch 2/4\n",
      "651/651 [==============================] - 130s 200ms/step - loss: 2.3045\n",
      "Epoch 3/4\n",
      "651/651 [==============================] - 112s 172ms/step - loss: 2.1876\n",
      "Epoch 4/4\n",
      "651/651 [==============================] - 96s 148ms/step - loss: 2.1069\n"
     ]
    },
    {
     "data": {
      "text/plain": [
       "<keras.src.callbacks.History at 0x28302c579d0>"
      ]
     },
     "execution_count": 12,
     "metadata": {},
     "output_type": "execute_result"
    }
   ],
   "source": [
    "model = Sequential()\n",
    "model.add(LSTM(128, input_shape=(seq_length, len(characters))))\n",
    "model.add(Dense(len(characters)))\n",
    "model.add(Activation('softmax'))\n",
    "model.compile(loss='categorical_crossentropy', optimizer=RMSprop(lr=0.01))\n",
    "model.fit(x, y, batch_size=256, epochs=4)\n",
    "          "
   ]
  },
  {
   "cell_type": "code",
   "execution_count": 13,
   "id": "3504a2fc-4703-4913-8753-91248fdd8611",
   "metadata": {},
   "outputs": [],
   "source": [
    "def sample(preds, temperature=1.0):\n",
    "    preds = np.asarray(preds).astype('float64')\n",
    "    preds = np.log(preds) / temperature\n",
    "    exp_preds = np.exp(preds)\n",
    "    preds = exp_preds / np.sum(exp_preds)\n",
    "    probas = np.random.multinomial(1, preds, 1)\n",
    "    return np.argmax(probas)"
   ]
  },
  {
   "cell_type": "code",
   "execution_count": 21,
   "id": "b7849aa0-9b2c-458e-8c78-a989223016c1",
   "metadata": {},
   "outputs": [],
   "source": [
    "def generate_text(length, temperature):\n",
    "    start_index = random.randint(0, len(text) - seq_length - 1)\n",
    "    generated = ''\n",
    "    sentence = text[start_index: start_index + seq_length]\n",
    "    generated += sentence\n",
    "    for i in range(length):\n",
    "        x = np.zeros((1, seq_length, len(characters)))\n",
    "        for t, character in enumerate(sentence):\n",
    "            x[0, t, char_to_index[character]] = 1\n",
    "        predictions = model.predict(x, verbose=0)[0]\n",
    "        next_index = sample(predictions, temperature)\n",
    "        next_character = index_to_char[next_index]\n",
    "\n",
    "        generated +=next_character\n",
    "        sentence = sentence[1:] + next_character\n",
    "        return generated\n"
   ]
  },
  {
   "cell_type": "code",
   "execution_count": 22,
   "id": "ae7ca09e-534a-4a43-85ca-2b3695dda2e2",
   "metadata": {},
   "outputs": [
    {
     "name": "stdout",
     "output_type": "stream",
     "text": [
      "se this house against this house,\n",
      "it will\n"
     ]
    }
   ],
   "source": [
    "print(generate_text(300, 0.2))"
   ]
  },
  {
   "cell_type": "code",
   "execution_count": 23,
   "id": "c6b61e57-bcfd-4578-8f07-6b34ea44a1a6",
   "metadata": {},
   "outputs": [
    {
     "name": "stdout",
     "output_type": "stream",
     "text": [
      "k:\n",
      "mine, full of sorrow and heart's discs\n"
     ]
    }
   ],
   "source": [
    "print(generate_text(300, 1.0))"
   ]
  },
  {
   "cell_type": "code",
   "execution_count": null,
   "id": "ad0a0435-4dd6-4d28-aa69-7100a7ac9fe6",
   "metadata": {},
   "outputs": [],
   "source": []
  }
 ],
 "metadata": {
  "kernelspec": {
   "display_name": "Python 3 (ipykernel)",
   "language": "python",
   "name": "python3"
  },
  "language_info": {
   "codemirror_mode": {
    "name": "ipython",
    "version": 3
   },
   "file_extension": ".py",
   "mimetype": "text/x-python",
   "name": "python",
   "nbconvert_exporter": "python",
   "pygments_lexer": "ipython3",
   "version": "3.11.3"
  }
 },
 "nbformat": 4,
 "nbformat_minor": 5
}
